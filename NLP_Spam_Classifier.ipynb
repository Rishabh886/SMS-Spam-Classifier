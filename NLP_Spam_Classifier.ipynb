{
 "cells": [
  {
   "cell_type": "code",
   "execution_count": 1,
   "id": "012fe1bb",
   "metadata": {},
   "outputs": [],
   "source": [
    "# Importing libraries\n",
    "import pandas as pd\n",
    "from sklearn.feature_extraction.text import CountVectorizer, TfidfVectorizer\n",
    "from sklearn.model_selection import train_test_split\n",
    "from sklearn.naive_bayes import MultinomialNB, GaussianNB, BernoulliNB\n",
    "from sklearn.metrics import confusion_matrix, ConfusionMatrixDisplay, accuracy_score, classification_report\n",
    "from sklearn.model_selection import train_test_split"
   ]
  },
  {
   "cell_type": "code",
   "execution_count": 2,
   "id": "d0e39a49",
   "metadata": {},
   "outputs": [],
   "source": [
    "messages = pd.read_csv(\"SMSSpamCollection.txt\",sep='\\t',names=[\"label\",\"message\"])"
   ]
  },
  {
   "cell_type": "code",
   "execution_count": 3,
   "id": "914a58e5",
   "metadata": {},
   "outputs": [
    {
     "data": {
      "text/html": [
       "<div>\n",
       "<style scoped>\n",
       "    .dataframe tbody tr th:only-of-type {\n",
       "        vertical-align: middle;\n",
       "    }\n",
       "\n",
       "    .dataframe tbody tr th {\n",
       "        vertical-align: top;\n",
       "    }\n",
       "\n",
       "    .dataframe thead th {\n",
       "        text-align: right;\n",
       "    }\n",
       "</style>\n",
       "<table border=\"1\" class=\"dataframe\">\n",
       "  <thead>\n",
       "    <tr style=\"text-align: right;\">\n",
       "      <th></th>\n",
       "      <th>label</th>\n",
       "      <th>message</th>\n",
       "    </tr>\n",
       "  </thead>\n",
       "  <tbody>\n",
       "    <tr>\n",
       "      <th>0</th>\n",
       "      <td>ham</td>\n",
       "      <td>Go until jurong point, crazy.. Available only ...</td>\n",
       "    </tr>\n",
       "    <tr>\n",
       "      <th>1</th>\n",
       "      <td>ham</td>\n",
       "      <td>Ok lar... Joking wif u oni...</td>\n",
       "    </tr>\n",
       "    <tr>\n",
       "      <th>2</th>\n",
       "      <td>spam</td>\n",
       "      <td>Free entry in 2 a wkly comp to win FA Cup fina...</td>\n",
       "    </tr>\n",
       "    <tr>\n",
       "      <th>3</th>\n",
       "      <td>ham</td>\n",
       "      <td>U dun say so early hor... U c already then say...</td>\n",
       "    </tr>\n",
       "    <tr>\n",
       "      <th>4</th>\n",
       "      <td>ham</td>\n",
       "      <td>Nah I don't think he goes to usf, he lives aro...</td>\n",
       "    </tr>\n",
       "    <tr>\n",
       "      <th>...</th>\n",
       "      <td>...</td>\n",
       "      <td>...</td>\n",
       "    </tr>\n",
       "    <tr>\n",
       "      <th>5567</th>\n",
       "      <td>spam</td>\n",
       "      <td>This is the 2nd time we have tried 2 contact u...</td>\n",
       "    </tr>\n",
       "    <tr>\n",
       "      <th>5568</th>\n",
       "      <td>ham</td>\n",
       "      <td>Will ü b going to esplanade fr home?</td>\n",
       "    </tr>\n",
       "    <tr>\n",
       "      <th>5569</th>\n",
       "      <td>ham</td>\n",
       "      <td>Pity, * was in mood for that. So...any other s...</td>\n",
       "    </tr>\n",
       "    <tr>\n",
       "      <th>5570</th>\n",
       "      <td>ham</td>\n",
       "      <td>The guy did some bitching but I acted like i'd...</td>\n",
       "    </tr>\n",
       "    <tr>\n",
       "      <th>5571</th>\n",
       "      <td>ham</td>\n",
       "      <td>Rofl. Its true to its name</td>\n",
       "    </tr>\n",
       "  </tbody>\n",
       "</table>\n",
       "<p>5572 rows × 2 columns</p>\n",
       "</div>"
      ],
      "text/plain": [
       "     label                                            message\n",
       "0      ham  Go until jurong point, crazy.. Available only ...\n",
       "1      ham                      Ok lar... Joking wif u oni...\n",
       "2     spam  Free entry in 2 a wkly comp to win FA Cup fina...\n",
       "3      ham  U dun say so early hor... U c already then say...\n",
       "4      ham  Nah I don't think he goes to usf, he lives aro...\n",
       "...    ...                                                ...\n",
       "5567  spam  This is the 2nd time we have tried 2 contact u...\n",
       "5568   ham               Will ü b going to esplanade fr home?\n",
       "5569   ham  Pity, * was in mood for that. So...any other s...\n",
       "5570   ham  The guy did some bitching but I acted like i'd...\n",
       "5571   ham                         Rofl. Its true to its name\n",
       "\n",
       "[5572 rows x 2 columns]"
      ]
     },
     "execution_count": 3,
     "metadata": {},
     "output_type": "execute_result"
    }
   ],
   "source": [
    "messages"
   ]
  },
  {
   "cell_type": "code",
   "execution_count": 4,
   "id": "ccd48707",
   "metadata": {},
   "outputs": [
    {
     "name": "stdout",
     "output_type": "stream",
     "text": [
      "<class 'pandas.core.frame.DataFrame'>\n",
      "RangeIndex: 5572 entries, 0 to 5571\n",
      "Data columns (total 2 columns):\n",
      " #   Column   Non-Null Count  Dtype \n",
      "---  ------   --------------  ----- \n",
      " 0   label    5572 non-null   object\n",
      " 1   message  5572 non-null   object\n",
      "dtypes: object(2)\n",
      "memory usage: 87.2+ KB\n"
     ]
    }
   ],
   "source": [
    "messages.info()"
   ]
  },
  {
   "cell_type": "code",
   "execution_count": 5,
   "id": "68d43fbf",
   "metadata": {},
   "outputs": [],
   "source": [
    "import re\n",
    "import nltk\n",
    "from nltk.corpus import stopwords\n",
    "from nltk.stem.porter import PorterStemmer\n",
    "from nltk.stem import WordNetLemmatizer"
   ]
  },
  {
   "cell_type": "code",
   "execution_count": 6,
   "id": "f5c27d95",
   "metadata": {},
   "outputs": [],
   "source": [
    "ps = PorterStemmer()\n",
    "lem = WordNetLemmatizer()"
   ]
  },
  {
   "cell_type": "code",
   "execution_count": 7,
   "id": "0302b146",
   "metadata": {},
   "outputs": [],
   "source": [
    "corpus_ps=[]\n",
    "corpus_lem=[]"
   ]
  },
  {
   "cell_type": "markdown",
   "id": "987b2e6f",
   "metadata": {},
   "source": [
    "### Using Stemming and Evaluating the model"
   ]
  },
  {
   "cell_type": "code",
   "execution_count": 8,
   "id": "79f27531",
   "metadata": {},
   "outputs": [],
   "source": [
    "# Text Pre-Processing\n",
    "for i in range(0, len(messages)):\n",
    "    review = re.sub('[^a-zA-Z]',' ',messages['message'][i])\n",
    "    review = review.lower()\n",
    "    review = review.split()\n",
    "    review = [ps.stem(word) for word in review if not word in set(stopwords.words('english'))]\n",
    "    review = ' '.join(review)\n",
    "    corpus_ps.append(review)"
   ]
  },
  {
   "cell_type": "code",
   "execution_count": 9,
   "id": "317b4b37",
   "metadata": {},
   "outputs": [
    {
     "data": {
      "text/plain": [
       "['go jurong point crazi avail bugi n great world la e buffet cine got amor wat',\n",
       " 'ok lar joke wif u oni',\n",
       " 'free entri wkli comp win fa cup final tkt st may text fa receiv entri question std txt rate c appli',\n",
       " 'u dun say earli hor u c alreadi say',\n",
       " 'nah think goe usf live around though']"
      ]
     },
     "execution_count": 9,
     "metadata": {},
     "output_type": "execute_result"
    }
   ],
   "source": [
    "corpus_ps[:5]"
   ]
  },
  {
   "cell_type": "code",
   "execution_count": 10,
   "id": "79f9358a",
   "metadata": {},
   "outputs": [
    {
     "data": {
      "text/plain": [
       "5572"
      ]
     },
     "execution_count": 10,
     "metadata": {},
     "output_type": "execute_result"
    }
   ],
   "source": [
    "len(corpus_ps)"
   ]
  },
  {
   "cell_type": "code",
   "execution_count": 11,
   "id": "bd3e8e9b",
   "metadata": {},
   "outputs": [
    {
     "name": "stdout",
     "output_type": "stream",
     "text": [
      "      ham  spam\n",
      "0       1     0\n",
      "1       1     0\n",
      "2       0     1\n",
      "3       1     0\n",
      "4       1     0\n",
      "...   ...   ...\n",
      "5567    0     1\n",
      "5568    1     0\n",
      "5569    1     0\n",
      "5570    1     0\n",
      "5571    1     0\n",
      "\n",
      "[5572 rows x 2 columns]\n",
      "[0 0 1 ... 0 0 0]\n"
     ]
    }
   ],
   "source": [
    "y = pd.get_dummies(messages['label'])\n",
    "print(y)\n",
    "y = y.iloc[:,1].values\n",
    "print(y)"
   ]
  },
  {
   "cell_type": "code",
   "execution_count": 12,
   "id": "e50e1661",
   "metadata": {},
   "outputs": [
    {
     "data": {
      "text/plain": [
       "ham     4825\n",
       "spam     747\n",
       "Name: label, dtype: int64"
      ]
     },
     "execution_count": 12,
     "metadata": {},
     "output_type": "execute_result"
    }
   ],
   "source": [
    "messages['label'].value_counts()"
   ]
  },
  {
   "cell_type": "code",
   "execution_count": 13,
   "id": "c71b4a41",
   "metadata": {},
   "outputs": [
    {
     "data": {
      "text/plain": [
       "0        ham\n",
       "1        ham\n",
       "2       spam\n",
       "3        ham\n",
       "4        ham\n",
       "        ... \n",
       "5567    spam\n",
       "5568     ham\n",
       "5569     ham\n",
       "5570     ham\n",
       "5571     ham\n",
       "Name: label, Length: 5572, dtype: object"
      ]
     },
     "execution_count": 13,
     "metadata": {},
     "output_type": "execute_result"
    }
   ],
   "source": [
    "y=messages['label']\n",
    "y"
   ]
  },
  {
   "cell_type": "code",
   "execution_count": 14,
   "id": "648dd227",
   "metadata": {},
   "outputs": [],
   "source": [
    "def evaluate_model_stem_bow(model):\n",
    "    # Splitting dataset\n",
    "    X_train, X_test, y_train, y_test = train_test_split(corpus_ps,y,test_size=0.2, random_state=0)\n",
    "    \n",
    "    # Using Bag of words\n",
    "    cv = CountVectorizer(max_features=2500)\n",
    "    X_train = cv.fit_transform(X_train).toarray()\n",
    "    X_test = cv.transform(X_test).toarray()\n",
    "    \n",
    "    # Using mentioned model\n",
    "    spam_detect_model = model.fit(X_train,y_train)\n",
    "    y_pred = spam_detect_model.predict(X_test)\n",
    "    \n",
    "    # Evaluating the model\n",
    "    print(confusion_matrix(y_test,y_pred))\n",
    "    print(accuracy_score(y_test,y_pred))\n",
    "    print(classification_report(y_test,y_pred))\n",
    "    cm_display = ConfusionMatrixDisplay(confusion_matrix(y_test,y_pred)).plot()"
   ]
  },
  {
   "cell_type": "code",
   "execution_count": 15,
   "id": "a56574f8",
   "metadata": {},
   "outputs": [
    {
     "name": "stdout",
     "output_type": "stream",
     "text": [
      "[[953   2]\n",
      " [ 16 144]]\n",
      "0.9838565022421525\n",
      "              precision    recall  f1-score   support\n",
      "\n",
      "         ham       0.98      1.00      0.99       955\n",
      "        spam       0.99      0.90      0.94       160\n",
      "\n",
      "    accuracy                           0.98      1115\n",
      "   macro avg       0.98      0.95      0.97      1115\n",
      "weighted avg       0.98      0.98      0.98      1115\n",
      "\n"
     ]
    },
    {
     "data": {
      "image/png": "[encoded data removed]",
      "text/plain": [
       "<Figure size 432x288 with 2 Axes>"
      ]
     },
     "metadata": {
      "needs_background": "light"
     },
     "output_type": "display_data"
    }
   ],
   "source": [
    "evaluate_model_stem_bow(BernoulliNB())"
   ]
  },
  {
   "cell_type": "code",
   "execution_count": 16,
   "id": "bdca9274",
   "metadata": {},
   "outputs": [
    {
     "name": "stdout",
     "output_type": "stream",
     "text": [
      "[[788 167]\n",
      " [ 14 146]]\n",
      "0.8376681614349776\n",
      "              precision    recall  f1-score   support\n",
      "\n",
      "         ham       0.98      0.83      0.90       955\n",
      "        spam       0.47      0.91      0.62       160\n",
      "\n",
      "    accuracy                           0.84      1115\n",
      "   macro avg       0.72      0.87      0.76      1115\n",
      "weighted avg       0.91      0.84      0.86      1115\n",
      "\n"
     ]
    },
    {
     "data": {
      "image/png": "[encoded data removed]",
      "text/plain": [
       "<Figure size 432x288 with 2 Axes>"
      ]
     },
     "metadata": {
      "needs_background": "light"
     },
     "output_type": "display_data"
    }
   ],
   "source": [
    "evaluate_model_stem_bow(GaussianNB())"
   ]
  },
  {
   "cell_type": "code",
   "execution_count": 17,
   "id": "5b91d630",
   "metadata": {},
   "outputs": [
    {
     "name": "stdout",
     "output_type": "stream",
     "text": [
      "[[950   5]\n",
      " [  8 152]]\n",
      "0.9883408071748879\n",
      "              precision    recall  f1-score   support\n",
      "\n",
      "         ham       0.99      0.99      0.99       955\n",
      "        spam       0.97      0.95      0.96       160\n",
      "\n",
      "    accuracy                           0.99      1115\n",
      "   macro avg       0.98      0.97      0.98      1115\n",
      "weighted avg       0.99      0.99      0.99      1115\n",
      "\n"
     ]
    },
    {
     "data": {
      "image/png": "[encoded data removed]",
      "text/plain": [
       "<Figure size 432x288 with 2 Axes>"
      ]
     },
     "metadata": {
      "needs_background": "light"
     },
     "output_type": "display_data"
    }
   ],
   "source": [
    "evaluate_model_stem_bow(MultinomialNB())"
   ]
  },
  {
   "cell_type": "code",
   "execution_count": 18,
   "id": "71b8fa25",
   "metadata": {},
   "outputs": [],
   "source": [
    "def evaluate_model_stem_tfidf(model):\n",
    "    # Splitting dataset\n",
    "    X_train, X_test, y_train, y_test = train_test_split(corpus_ps,y,test_size=0.2, random_state=0)\n",
    "    \n",
    "    # Using Bag of words\n",
    "    cv = TfidfVectorizer(max_features=2500)\n",
    "    X_train = cv.fit_transform(X_train).toarray()\n",
    "    X_test = cv.transform(X_test).toarray()\n",
    "    \n",
    "    # Using mentioned model\n",
    "    spam_detect_model = model.fit(X_train,y_train)\n",
    "    y_pred = spam_detect_model.predict(X_test)\n",
    "    \n",
    "    # Evaluating the model\n",
    "    print(confusion_matrix(y_test,y_pred))\n",
    "    print(accuracy_score(y_test,y_pred))\n",
    "    print(classification_report(y_test,y_pred))\n",
    "    cm_display = ConfusionMatrixDisplay(confusion_matrix(y_test,y_pred)).plot()"
   ]
  },
  {
   "cell_type": "code",
   "execution_count": 19,
   "id": "76e20788",
   "metadata": {},
   "outputs": [
    {
     "name": "stdout",
     "output_type": "stream",
     "text": [
      "[[953   2]\n",
      " [ 16 144]]\n",
      "0.9838565022421525\n",
      "              precision    recall  f1-score   support\n",
      "\n",
      "         ham       0.98      1.00      0.99       955\n",
      "        spam       0.99      0.90      0.94       160\n",
      "\n",
      "    accuracy                           0.98      1115\n",
      "   macro avg       0.98      0.95      0.97      1115\n",
      "weighted avg       0.98      0.98      0.98      1115\n",
      "\n"
     ]
    },
    {
     "data": {
      "image/png": "[encoded data removed]",
      "text/plain": [
       "<Figure size 432x288 with 2 Axes>"
      ]
     },
     "metadata": {
      "needs_background": "light"
     },
     "output_type": "display_data"
    }
   ],
   "source": [
    "evaluate_model_stem_tfidf(BernoulliNB())"
   ]
  },
  {
   "cell_type": "code",
   "execution_count": 20,
   "id": "1fafd27a",
   "metadata": {},
   "outputs": [
    {
     "name": "stdout",
     "output_type": "stream",
     "text": [
      "[[786 169]\n",
      " [ 17 143]]\n",
      "0.8331838565022421\n",
      "              precision    recall  f1-score   support\n",
      "\n",
      "         ham       0.98      0.82      0.89       955\n",
      "        spam       0.46      0.89      0.61       160\n",
      "\n",
      "    accuracy                           0.83      1115\n",
      "   macro avg       0.72      0.86      0.75      1115\n",
      "weighted avg       0.90      0.83      0.85      1115\n",
      "\n"
     ]
    },
    {
     "data": {
      "image/png": "[encoded data removed]",
      "text/plain": [
       "<Figure size 432x288 with 2 Axes>"
      ]
     },
     "metadata": {
      "needs_background": "light"
     },
     "output_type": "display_data"
    }
   ],
   "source": [
    "evaluate_model_stem_tfidf(GaussianNB())"
   ]
  },
  {
   "cell_type": "code",
   "execution_count": 21,
   "id": "cf3dadc7",
   "metadata": {},
   "outputs": [
    {
     "name": "stdout",
     "output_type": "stream",
     "text": [
      "[[955   0]\n",
      " [ 26 134]]\n",
      "0.9766816143497757\n",
      "              precision    recall  f1-score   support\n",
      "\n",
      "         ham       0.97      1.00      0.99       955\n",
      "        spam       1.00      0.84      0.91       160\n",
      "\n",
      "    accuracy                           0.98      1115\n",
      "   macro avg       0.99      0.92      0.95      1115\n",
      "weighted avg       0.98      0.98      0.98      1115\n",
      "\n"
     ]
    },
    {
     "data": {
      "image/png": "[encoded data removed]",
      "text/plain": [
       "<Figure size 432x288 with 2 Axes>"
      ]
     },
     "metadata": {
      "needs_background": "light"
     },
     "output_type": "display_data"
    }
   ],
   "source": [
    "evaluate_model_stem_tfidf(MultinomialNB())"
   ]
  },
  {
   "cell_type": "markdown",
   "id": "b92b88bf",
   "metadata": {},
   "source": [
    "### Using Lemmatization and Evaluating the model"
   ]
  },
  {
   "cell_type": "code",
   "execution_count": 22,
   "id": "fb564b13",
   "metadata": {},
   "outputs": [],
   "source": [
    "# Text Pre-Processing\n",
    "for i in range(0, len(messages)):\n",
    "    review = re.sub('[^a-zA-Z]',' ',messages['message'][i])\n",
    "    review = review.lower()\n",
    "    review = review.split()\n",
    "    review = [lem.lemmatize(word) for word in review if not word in set(stopwords.words('english'))]\n",
    "    review = ' '.join(review)\n",
    "    corpus_lem.append(review)"
   ]
  },
  {
   "cell_type": "code",
   "execution_count": 23,
   "id": "d4c00c2a",
   "metadata": {},
   "outputs": [
    {
     "data": {
      "text/plain": [
       "['go jurong point crazy available bugis n great world la e buffet cine got amore wat',\n",
       " 'ok lar joking wif u oni',\n",
       " 'free entry wkly comp win fa cup final tkts st may text fa receive entry question std txt rate c apply',\n",
       " 'u dun say early hor u c already say',\n",
       " 'nah think go usf life around though']"
      ]
     },
     "execution_count": 23,
     "metadata": {},
     "output_type": "execute_result"
    }
   ],
   "source": [
    "corpus_lem[:5]"
   ]
  },
  {
   "cell_type": "code",
   "execution_count": 24,
   "id": "ee7952b4",
   "metadata": {},
   "outputs": [],
   "source": [
    "def evaluate_model_lem_bow(model):\n",
    "    # Splitting dataset\n",
    "    X_train, X_test, y_train, y_test = train_test_split(corpus_lem,y,test_size=0.2, random_state=0)\n",
    "\n",
    "    # Using Bag of words\n",
    "    cv = CountVectorizer(max_features=2500)\n",
    "    X_train = cv.fit_transform(X_train).toarray()\n",
    "    X_test = cv.transform(X_test).toarray()\n",
    "\n",
    "\n",
    "    # Using Multinomial Naive Bayes\n",
    "    spam_detect_model = model.fit(X_train,y_train)\n",
    "    y_pred = spam_detect_model.predict(X_test)\n",
    "\n",
    "    # Evaluating the model\n",
    "    print(confusion_matrix(y_test,y_pred))\n",
    "    print(accuracy_score(y_test,y_pred))\n",
    "    print(classification_report(y_test,y_pred))\n",
    "    cm_display = ConfusionMatrixDisplay(confusion_matrix(y_test,y_pred)).plot()"
   ]
  },
  {
   "cell_type": "code",
   "execution_count": 25,
   "id": "5dba91a4",
   "metadata": {},
   "outputs": [
    {
     "name": "stdout",
     "output_type": "stream",
     "text": [
      "[[954   1]\n",
      " [ 16 144]]\n",
      "0.9847533632286996\n",
      "              precision    recall  f1-score   support\n",
      "\n",
      "         ham       0.98      1.00      0.99       955\n",
      "        spam       0.99      0.90      0.94       160\n",
      "\n",
      "    accuracy                           0.98      1115\n",
      "   macro avg       0.99      0.95      0.97      1115\n",
      "weighted avg       0.98      0.98      0.98      1115\n",
      "\n"
     ]
    },
    {
     "data": {
      "image/png": "[encoded data removed]",
      "text/plain": [
       "<Figure size 432x288 with 2 Axes>"
      ]
     },
     "metadata": {
      "needs_background": "light"
     },
     "output_type": "display_data"
    }
   ],
   "source": [
    "evaluate_model_lem_bow(BernoulliNB())"
   ]
  },
  {
   "cell_type": "code",
   "execution_count": 26,
   "id": "4fe287ed",
   "metadata": {},
   "outputs": [
    {
     "name": "stdout",
     "output_type": "stream",
     "text": [
      "[[799 156]\n",
      " [ 12 148]]\n",
      "0.8493273542600897\n",
      "              precision    recall  f1-score   support\n",
      "\n",
      "         ham       0.99      0.84      0.90       955\n",
      "        spam       0.49      0.93      0.64       160\n",
      "\n",
      "    accuracy                           0.85      1115\n",
      "   macro avg       0.74      0.88      0.77      1115\n",
      "weighted avg       0.91      0.85      0.87      1115\n",
      "\n"
     ]
    },
    {
     "data": {
      "image/png": "[encoded data removed]",
      "text/plain": [
       "<Figure size 432x288 with 2 Axes>"
      ]
     },
     "metadata": {
      "needs_background": "light"
     },
     "output_type": "display_data"
    }
   ],
   "source": [
    "evaluate_model_lem_bow(GaussianNB())"
   ]
  },
  {
   "cell_type": "code",
   "execution_count": 27,
   "id": "c3b330ab",
   "metadata": {},
   "outputs": [
    {
     "name": "stdout",
     "output_type": "stream",
     "text": [
      "[[948   7]\n",
      " [ 11 149]]\n",
      "0.9838565022421525\n",
      "              precision    recall  f1-score   support\n",
      "\n",
      "         ham       0.99      0.99      0.99       955\n",
      "        spam       0.96      0.93      0.94       160\n",
      "\n",
      "    accuracy                           0.98      1115\n",
      "   macro avg       0.97      0.96      0.97      1115\n",
      "weighted avg       0.98      0.98      0.98      1115\n",
      "\n"
     ]
    },
    {
     "data": {
      "image/png": "[encoded data removed]",
      "text/plain": [
       "<Figure size 432x288 with 2 Axes>"
      ]
     },
     "metadata": {
      "needs_background": "light"
     },
     "output_type": "display_data"
    }
   ],
   "source": [
    "evaluate_model_lem_bow(MultinomialNB())"
   ]
  },
  {
   "cell_type": "code",
   "execution_count": 28,
   "id": "8dcc0827",
   "metadata": {},
   "outputs": [],
   "source": [
    "def evaluate_model_lem_tfidf(model):\n",
    "    # Splitting dataset\n",
    "    X_train, X_test, y_train, y_test = train_test_split(corpus_lem,y,test_size=0.2, random_state=0)\n",
    "\n",
    "    # Using Bag of words\n",
    "    cv = TfidfVectorizer(max_features=2500)\n",
    "    X_train = cv.fit_transform(X_train).toarray()\n",
    "    X_test = cv.transform(X_test).toarray()\n",
    "\n",
    "\n",
    "    # Using Multinomial Naive Bayes\n",
    "    spam_detect_model = model.fit(X_train,y_train)\n",
    "    y_pred = spam_detect_model.predict(X_test)\n",
    "\n",
    "    # Evaluating the model\n",
    "    print(confusion_matrix(y_test,y_pred))\n",
    "    print(accuracy_score(y_test,y_pred))\n",
    "    print(classification_report(y_test,y_pred))\n",
    "    cm_display = ConfusionMatrixDisplay(confusion_matrix(y_test,y_pred)).plot()"
   ]
  },
  {
   "cell_type": "code",
   "execution_count": 29,
   "id": "99fb0cf0",
   "metadata": {},
   "outputs": [
    {
     "name": "stdout",
     "output_type": "stream",
     "text": [
      "[[954   1]\n",
      " [ 16 144]]\n",
      "0.9847533632286996\n",
      "              precision    recall  f1-score   support\n",
      "\n",
      "         ham       0.98      1.00      0.99       955\n",
      "        spam       0.99      0.90      0.94       160\n",
      "\n",
      "    accuracy                           0.98      1115\n",
      "   macro avg       0.99      0.95      0.97      1115\n",
      "weighted avg       0.98      0.98      0.98      1115\n",
      "\n"
     ]
    },
    {
     "data": {
      "image/png": "[encoded data removed]",
      "text/plain": [
       "<Figure size 432x288 with 2 Axes>"
      ]
     },
     "metadata": {
      "needs_background": "light"
     },
     "output_type": "display_data"
    }
   ],
   "source": [
    "evaluate_model_lem_tfidf(BernoulliNB())"
   ]
  },
  {
   "cell_type": "code",
   "execution_count": 30,
   "id": "e63116e0",
   "metadata": {},
   "outputs": [
    {
     "name": "stdout",
     "output_type": "stream",
     "text": [
      "[[800 155]\n",
      " [ 17 143]]\n",
      "0.8457399103139014\n",
      "              precision    recall  f1-score   support\n",
      "\n",
      "         ham       0.98      0.84      0.90       955\n",
      "        spam       0.48      0.89      0.62       160\n",
      "\n",
      "    accuracy                           0.85      1115\n",
      "   macro avg       0.73      0.87      0.76      1115\n",
      "weighted avg       0.91      0.85      0.86      1115\n",
      "\n"
     ]
    },
    {
     "data": {
      "image/png": "[encoded data removed]",
      "text/plain": [
       "<Figure size 432x288 with 2 Axes>"
      ]
     },
     "metadata": {
      "needs_background": "light"
     },
     "output_type": "display_data"
    }
   ],
   "source": [
    "evaluate_model_lem_tfidf(GaussianNB())"
   ]
  },
  {
   "cell_type": "code",
   "execution_count": 31,
   "id": "97850ab1",
   "metadata": {},
   "outputs": [
    {
     "name": "stdout",
     "output_type": "stream",
     "text": [
      "[[954   1]\n",
      " [ 25 135]]\n",
      "0.9766816143497757\n",
      "              precision    recall  f1-score   support\n",
      "\n",
      "         ham       0.97      1.00      0.99       955\n",
      "        spam       0.99      0.84      0.91       160\n",
      "\n",
      "    accuracy                           0.98      1115\n",
      "   macro avg       0.98      0.92      0.95      1115\n",
      "weighted avg       0.98      0.98      0.98      1115\n",
      "\n"
     ]
    },
    {
     "data": {
      "image/png": "[encoded data removed]",
      "text/plain": [
       "<Figure size 432x288 with 2 Axes>"
      ]
     },
     "metadata": {
      "needs_background": "light"
     },
     "output_type": "display_data"
    }
   ],
   "source": [
    "evaluate_model_lem_tfidf(MultinomialNB())"
   ]
  },
  {
   "cell_type": "markdown",
   "id": "bd97e1c6",
   "metadata": {},
   "source": [
    "After text pre-processing and evaluating the model using bag of words and TF-IDF, we found that doing stemming and evaluating the model using TF-IDF, using algorithm Multinomial Naive Bayes, is yielding highest precision of 100%."
   ]
  },
  {
   "cell_type": "code",
   "execution_count": null,
   "id": "d9c90925",
   "metadata": {},
   "outputs": [],
   "source": []
  }
 ],
 "metadata": {
  "kernelspec": {
   "display_name": "Python 3 (ipykernel)",
   "language": "python",
   "name": "python3"
  },
  "language_info": {
   "codemirror_mode": {
    "name": "ipython",
    "version": 3
   },
   "file_extension": ".py",
   "mimetype": "text/x-python",
   "name": "python",
   "nbconvert_exporter": "python",
   "pygments_lexer": "ipython3",
   "version": "3.9.12"
  }
 },
 "nbformat": 4,
 "nbformat_minor": 5
}
